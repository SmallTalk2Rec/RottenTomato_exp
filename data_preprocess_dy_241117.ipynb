{
 "cells": [
  {
   "cell_type": "code",
   "execution_count": 1,
   "metadata": {},
   "outputs": [],
   "source": [
    "import pandas as pd \n",
    "import numpy as np\n",
    "import matplotlib.pyplot as plt\n",
    "from sklearn.model_selection import train_test_split"
   ]
  },
  {
   "cell_type": "code",
   "execution_count": 2,
   "metadata": {},
   "outputs": [],
   "source": [
    "df_raw= pd.read_csv('../10 data/rotten_tomatoes_movie_reviews.csv')"
   ]
  },
  {
   "cell_type": "code",
   "execution_count": 3,
   "metadata": {},
   "outputs": [],
   "source": [
    "df = pd.read_csv('../10 data/rotten_tomatoes_movies.csv')"
   ]
  },
  {
   "cell_type": "code",
   "execution_count": 4,
   "metadata": {},
   "outputs": [
    {
     "name": "stdout",
     "output_type": "stream",
     "text": [
      "<class 'pandas.core.frame.DataFrame'>\n",
      "RangeIndex: 143258 entries, 0 to 143257\n",
      "Data columns (total 16 columns):\n",
      " #   Column                Non-Null Count   Dtype  \n",
      "---  ------                --------------   -----  \n",
      " 0   id                    143258 non-null  object \n",
      " 1   title                 142891 non-null  object \n",
      " 2   audienceScore         73248 non-null   float64\n",
      " 3   tomatoMeter           33877 non-null   float64\n",
      " 4   rating                13991 non-null   object \n",
      " 5   ratingContents        13991 non-null   object \n",
      " 6   releaseDateTheaters   30773 non-null   object \n",
      " 7   releaseDateStreaming  79420 non-null   object \n",
      " 8   runtimeMinutes        129431 non-null  float64\n",
      " 9   genre                 132175 non-null  object \n",
      " 10  originalLanguage      129400 non-null  object \n",
      " 11  director              139041 non-null  object \n",
      " 12  writer                90116 non-null   object \n",
      " 13  boxOffice             14743 non-null   object \n",
      " 14  distributor           23001 non-null   object \n",
      " 15  soundMix              15917 non-null   object \n",
      "dtypes: float64(3), object(13)\n",
      "memory usage: 17.5+ MB\n"
     ]
    }
   ],
   "source": [
    "df.info()"
   ]
  },
  {
   "cell_type": "markdown",
   "metadata": {},
   "source": [
    "## 00 데이터 EDA"
   ]
  },
  {
   "cell_type": "code",
   "execution_count": 5,
   "metadata": {},
   "outputs": [
    {
     "name": "stdout",
     "output_type": "stream",
     "text": [
      "<class 'pandas.core.frame.DataFrame'>\n",
      "RangeIndex: 1444963 entries, 0 to 1444962\n",
      "Data columns (total 11 columns):\n",
      " #   Column          Non-Null Count    Dtype \n",
      "---  ------          --------------    ----- \n",
      " 0   id              1444963 non-null  object\n",
      " 1   reviewId        1444963 non-null  int64 \n",
      " 2   creationDate    1444963 non-null  object\n",
      " 3   criticName      1444963 non-null  object\n",
      " 4   isTopCritic     1444963 non-null  bool  \n",
      " 5   originalScore   1009745 non-null  object\n",
      " 6   reviewState     1444963 non-null  object\n",
      " 7   publicatioName  1444963 non-null  object\n",
      " 8   reviewText      1375738 non-null  object\n",
      " 9   scoreSentiment  1444963 non-null  object\n",
      " 10  reviewUrl       1234038 non-null  object\n",
      "dtypes: bool(1), int64(1), object(9)\n",
      "memory usage: 111.6+ MB\n"
     ]
    }
   ],
   "source": [
    "df_raw.info()"
   ]
  },
  {
   "cell_type": "code",
   "execution_count": 6,
   "metadata": {},
   "outputs": [
    {
     "data": {
      "text/plain": [
       "id                  69263\n",
       "reviewId          1432569\n",
       "creationDate         8510\n",
       "criticName          15510\n",
       "isTopCritic             2\n",
       "originalScore        1729\n",
       "reviewState             2\n",
       "publicatioName       2707\n",
       "reviewText        1359771\n",
       "scoreSentiment          2\n",
       "reviewUrl         1138350\n",
       "dtype: int64"
      ]
     },
     "execution_count": 6,
     "metadata": {},
     "output_type": "execute_result"
    }
   ],
   "source": [
    "df_raw.nunique()"
   ]
  },
  {
   "cell_type": "code",
   "execution_count": 7,
   "metadata": {},
   "outputs": [],
   "source": [
    "# 중복 제거 및 index 초기화\n",
    "df_raw.drop_duplicates(inplace=True)\n",
    "df_raw.reset_index(drop=True, inplace=True)"
   ]
  },
  {
   "cell_type": "code",
   "execution_count": 8,
   "metadata": {},
   "outputs": [
    {
     "data": {
      "text/plain": [
       "np.float64(56.0)"
      ]
     },
     "execution_count": 8,
     "metadata": {},
     "output_type": "execute_result"
    }
   ],
   "source": [
    "# 리뷰 개수 90% 인 기준 산출\n",
    "df_raw['id'].value_counts().quantile(0.9)"
   ]
  },
  {
   "cell_type": "code",
   "execution_count": 9,
   "metadata": {},
   "outputs": [],
   "source": [
    "# 리뷰가 56개 이상인 영화(id)의 index 추출\n",
    "selected_index_1 = df_raw['id'].value_counts()[df_raw['id'].value_counts()>=56].index"
   ]
  },
  {
   "cell_type": "code",
   "execution_count": 10,
   "metadata": {},
   "outputs": [
    {
     "data": {
      "text/plain": [
       "Index(['joker_2019', 'once_upon_a_time_in_hollywood', 'avengers_endgame',\n",
       "       'captain_marvel', 'a_star_is_born_2018', 'black_panther_2018',\n",
       "       'star_wars_the_rise_of_skywalker', 'the_batman', 'dune_2021',\n",
       "       'avengers_infinity_war',\n",
       "       ...\n",
       "       'ginger_snaps', '1090089-jack_frost', 'test_pattern', 'claires_camera',\n",
       "       'the_wound_2017', 'the_mad_womens_ball', 'days_of_heaven',\n",
       "       'broken_2012', '1104207-panic',\n",
       "       'jeanne_dielman_23_quai_du_commerce_1080_bruxelles'],\n",
       "      dtype='object', name='id', length=6963)"
      ]
     },
     "execution_count": 10,
     "metadata": {},
     "output_type": "execute_result"
    }
   ],
   "source": [
    "selected_index_1"
   ]
  },
  {
   "cell_type": "code",
   "execution_count": 11,
   "metadata": {},
   "outputs": [],
   "source": [
    "# 추출된 Index로 df_raw에서 리뷰 데이터 추출\n",
    "selected_df = df_raw[df_raw['id'].isin(selected_index_1)]"
   ]
  },
  {
   "cell_type": "code",
   "execution_count": 12,
   "metadata": {},
   "outputs": [],
   "source": [
    "# index 초기화\n",
    "selected_df.reset_index(drop=True, inplace= True)"
   ]
  },
  {
   "cell_type": "code",
   "execution_count": 13,
   "metadata": {},
   "outputs": [
    {
     "data": {
      "text/html": [
       "<div>\n",
       "<style scoped>\n",
       "    .dataframe tbody tr th:only-of-type {\n",
       "        vertical-align: middle;\n",
       "    }\n",
       "\n",
       "    .dataframe tbody tr th {\n",
       "        vertical-align: top;\n",
       "    }\n",
       "\n",
       "    .dataframe thead th {\n",
       "        text-align: right;\n",
       "    }\n",
       "</style>\n",
       "<table border=\"1\" class=\"dataframe\">\n",
       "  <thead>\n",
       "    <tr style=\"text-align: right;\">\n",
       "      <th></th>\n",
       "      <th>id</th>\n",
       "      <th>reviewId</th>\n",
       "      <th>creationDate</th>\n",
       "      <th>criticName</th>\n",
       "      <th>isTopCritic</th>\n",
       "      <th>originalScore</th>\n",
       "      <th>reviewState</th>\n",
       "      <th>publicatioName</th>\n",
       "      <th>reviewText</th>\n",
       "      <th>scoreSentiment</th>\n",
       "      <th>reviewUrl</th>\n",
       "    </tr>\n",
       "  </thead>\n",
       "  <tbody>\n",
       "    <tr>\n",
       "      <th>0</th>\n",
       "      <td>the_duff</td>\n",
       "      <td>2763233</td>\n",
       "      <td>2021-02-02</td>\n",
       "      <td>Richard Crouse</td>\n",
       "      <td>False</td>\n",
       "      <td>3/5</td>\n",
       "      <td>fresh</td>\n",
       "      <td>Richard Crouse</td>\n",
       "      <td>A school comedy so predictable the screenwrite...</td>\n",
       "      <td>POSITIVE</td>\n",
       "      <td>http://www.richardcrouse.ca/the-duff-3-stars-a...</td>\n",
       "    </tr>\n",
       "    <tr>\n",
       "      <th>1</th>\n",
       "      <td>the_duff</td>\n",
       "      <td>2692661</td>\n",
       "      <td>2020-05-27</td>\n",
       "      <td>Andrew Galdi</td>\n",
       "      <td>False</td>\n",
       "      <td>NaN</td>\n",
       "      <td>fresh</td>\n",
       "      <td>Movie Bitches</td>\n",
       "      <td>It was good acting and good writing.</td>\n",
       "      <td>POSITIVE</td>\n",
       "      <td>https://www.youtube.com/watch?v=8KeoWwUtXVQ&amp;li...</td>\n",
       "    </tr>\n",
       "    <tr>\n",
       "      <th>2</th>\n",
       "      <td>the_duff</td>\n",
       "      <td>2679627</td>\n",
       "      <td>2020-03-26</td>\n",
       "      <td>Avaryl Halley</td>\n",
       "      <td>False</td>\n",
       "      <td>NaN</td>\n",
       "      <td>fresh</td>\n",
       "      <td>Movie Bitches</td>\n",
       "      <td>Oh dear, am I the Duff?</td>\n",
       "      <td>POSITIVE</td>\n",
       "      <td>https://www.youtube.com/watch?v=8KeoWwUtXVQ&amp;li...</td>\n",
       "    </tr>\n",
       "    <tr>\n",
       "      <th>3</th>\n",
       "      <td>the_duff</td>\n",
       "      <td>2615809</td>\n",
       "      <td>2019-08-15</td>\n",
       "      <td>Udita Jhunjhunwala</td>\n",
       "      <td>True</td>\n",
       "      <td>NaN</td>\n",
       "      <td>fresh</td>\n",
       "      <td>Livemint</td>\n",
       "      <td>While director Ari Sandel's adaptation is devo...</td>\n",
       "      <td>POSITIVE</td>\n",
       "      <td>https://www.livemint.com/Leisure/3wDs58QVt0Mtm...</td>\n",
       "    </tr>\n",
       "    <tr>\n",
       "      <th>4</th>\n",
       "      <td>the_duff</td>\n",
       "      <td>2586271</td>\n",
       "      <td>2019-05-14</td>\n",
       "      <td>Olivia Luder</td>\n",
       "      <td>True</td>\n",
       "      <td>3/5</td>\n",
       "      <td>fresh</td>\n",
       "      <td>One Room With A View</td>\n",
       "      <td>Not clever enough to be genre-defining in its ...</td>\n",
       "      <td>POSITIVE</td>\n",
       "      <td>https://oneroomwithaview.com/2015/03/06/duff-r...</td>\n",
       "    </tr>\n",
       "    <tr>\n",
       "      <th>...</th>\n",
       "      <td>...</td>\n",
       "      <td>...</td>\n",
       "      <td>...</td>\n",
       "      <td>...</td>\n",
       "      <td>...</td>\n",
       "      <td>...</td>\n",
       "      <td>...</td>\n",
       "      <td>...</td>\n",
       "      <td>...</td>\n",
       "      <td>...</td>\n",
       "      <td>...</td>\n",
       "    </tr>\n",
       "    <tr>\n",
       "      <th>925866</th>\n",
       "      <td>thor_love_and_thunder</td>\n",
       "      <td>102706151</td>\n",
       "      <td>2022-07-05</td>\n",
       "      <td>Christie Cronan</td>\n",
       "      <td>False</td>\n",
       "      <td>7/10</td>\n",
       "      <td>fresh</td>\n",
       "      <td>Raising Whasians</td>\n",
       "      <td>Solid but not totally sold&amp;#44; Thor&amp;#58; Ragn...</td>\n",
       "      <td>POSITIVE</td>\n",
       "      <td>https://raisingwhasians.com/thor-love-and-thun...</td>\n",
       "    </tr>\n",
       "    <tr>\n",
       "      <th>925867</th>\n",
       "      <td>thor_love_and_thunder</td>\n",
       "      <td>102706150</td>\n",
       "      <td>2022-07-05</td>\n",
       "      <td>Ian Sandwell</td>\n",
       "      <td>False</td>\n",
       "      <td>4/5</td>\n",
       "      <td>fresh</td>\n",
       "      <td>Digital Spy</td>\n",
       "      <td>Thor&amp;#58; Love and Thunder is the most enterta...</td>\n",
       "      <td>POSITIVE</td>\n",
       "      <td>https://www.digitalspy.com/movies/a40496050/th...</td>\n",
       "    </tr>\n",
       "    <tr>\n",
       "      <th>925868</th>\n",
       "      <td>thor_love_and_thunder</td>\n",
       "      <td>102706149</td>\n",
       "      <td>2022-07-05</td>\n",
       "      <td>Lauren LaMagna</td>\n",
       "      <td>False</td>\n",
       "      <td>8/10</td>\n",
       "      <td>fresh</td>\n",
       "      <td>Next Best Picture</td>\n",
       "      <td>&amp;quot;Thor&amp;#58; Love and Thunder&amp;quot; is a st...</td>\n",
       "      <td>POSITIVE</td>\n",
       "      <td>https://www.nextbestpicture.com/thor-love-and-...</td>\n",
       "    </tr>\n",
       "    <tr>\n",
       "      <th>925869</th>\n",
       "      <td>thor_love_and_thunder</td>\n",
       "      <td>102706148</td>\n",
       "      <td>2022-07-05</td>\n",
       "      <td>Jake Cole</td>\n",
       "      <td>True</td>\n",
       "      <td>1/4</td>\n",
       "      <td>rotten</td>\n",
       "      <td>Slant Magazine</td>\n",
       "      <td>Across Taika Waititi&amp;#8217;s film&amp;#44; a war a...</td>\n",
       "      <td>NEGATIVE</td>\n",
       "      <td>https://www.slantmagazine.com/film/thor-love-a...</td>\n",
       "    </tr>\n",
       "    <tr>\n",
       "      <th>925870</th>\n",
       "      <td>thor_love_and_thunder</td>\n",
       "      <td>102706147</td>\n",
       "      <td>2022-07-05</td>\n",
       "      <td>Roger Moore</td>\n",
       "      <td>False</td>\n",
       "      <td>2.5/4</td>\n",
       "      <td>fresh</td>\n",
       "      <td>Movie Nation</td>\n",
       "      <td>It&amp;#8217;s the jokes that make it&amp;#44; with th...</td>\n",
       "      <td>POSITIVE</td>\n",
       "      <td>https://rogersmovienation.com/2022/07/05/movie...</td>\n",
       "    </tr>\n",
       "  </tbody>\n",
       "</table>\n",
       "<p>925871 rows × 11 columns</p>\n",
       "</div>"
      ],
      "text/plain": [
       "                           id   reviewId creationDate          criticName  \\\n",
       "0                    the_duff    2763233   2021-02-02      Richard Crouse   \n",
       "1                    the_duff    2692661   2020-05-27        Andrew Galdi   \n",
       "2                    the_duff    2679627   2020-03-26       Avaryl Halley   \n",
       "3                    the_duff    2615809   2019-08-15  Udita Jhunjhunwala   \n",
       "4                    the_duff    2586271   2019-05-14        Olivia Luder   \n",
       "...                       ...        ...          ...                 ...   \n",
       "925866  thor_love_and_thunder  102706151   2022-07-05     Christie Cronan   \n",
       "925867  thor_love_and_thunder  102706150   2022-07-05        Ian Sandwell   \n",
       "925868  thor_love_and_thunder  102706149   2022-07-05      Lauren LaMagna   \n",
       "925869  thor_love_and_thunder  102706148   2022-07-05           Jake Cole   \n",
       "925870  thor_love_and_thunder  102706147   2022-07-05         Roger Moore   \n",
       "\n",
       "        isTopCritic originalScore reviewState        publicatioName  \\\n",
       "0             False           3/5       fresh        Richard Crouse   \n",
       "1             False           NaN       fresh         Movie Bitches   \n",
       "2             False           NaN       fresh         Movie Bitches   \n",
       "3              True           NaN       fresh              Livemint   \n",
       "4              True           3/5       fresh  One Room With A View   \n",
       "...             ...           ...         ...                   ...   \n",
       "925866        False          7/10       fresh      Raising Whasians   \n",
       "925867        False           4/5       fresh           Digital Spy   \n",
       "925868        False          8/10       fresh     Next Best Picture   \n",
       "925869         True           1/4      rotten        Slant Magazine   \n",
       "925870        False         2.5/4       fresh          Movie Nation   \n",
       "\n",
       "                                               reviewText scoreSentiment  \\\n",
       "0       A school comedy so predictable the screenwrite...       POSITIVE   \n",
       "1                    It was good acting and good writing.       POSITIVE   \n",
       "2                                 Oh dear, am I the Duff?       POSITIVE   \n",
       "3       While director Ari Sandel's adaptation is devo...       POSITIVE   \n",
       "4       Not clever enough to be genre-defining in its ...       POSITIVE   \n",
       "...                                                   ...            ...   \n",
       "925866  Solid but not totally sold&#44; Thor&#58; Ragn...       POSITIVE   \n",
       "925867  Thor&#58; Love and Thunder is the most enterta...       POSITIVE   \n",
       "925868  &quot;Thor&#58; Love and Thunder&quot; is a st...       POSITIVE   \n",
       "925869  Across Taika Waititi&#8217;s film&#44; a war a...       NEGATIVE   \n",
       "925870  It&#8217;s the jokes that make it&#44; with th...       POSITIVE   \n",
       "\n",
       "                                                reviewUrl  \n",
       "0       http://www.richardcrouse.ca/the-duff-3-stars-a...  \n",
       "1       https://www.youtube.com/watch?v=8KeoWwUtXVQ&li...  \n",
       "2       https://www.youtube.com/watch?v=8KeoWwUtXVQ&li...  \n",
       "3       https://www.livemint.com/Leisure/3wDs58QVt0Mtm...  \n",
       "4       https://oneroomwithaview.com/2015/03/06/duff-r...  \n",
       "...                                                   ...  \n",
       "925866  https://raisingwhasians.com/thor-love-and-thun...  \n",
       "925867  https://www.digitalspy.com/movies/a40496050/th...  \n",
       "925868  https://www.nextbestpicture.com/thor-love-and-...  \n",
       "925869  https://www.slantmagazine.com/film/thor-love-a...  \n",
       "925870  https://rogersmovienation.com/2022/07/05/movie...  \n",
       "\n",
       "[925871 rows x 11 columns]"
      ]
     },
     "execution_count": 13,
     "metadata": {},
     "output_type": "execute_result"
    }
   ],
   "source": [
    "selected_df"
   ]
  },
  {
   "cell_type": "code",
   "execution_count": 14,
   "metadata": {},
   "outputs": [],
   "source": [
    "# 리뷰를 4개이상한 리뷰어들의 index 추출\n",
    "selected_index_2 = selected_df['criticName'].value_counts()[selected_df['criticName'].value_counts()>=4].index"
   ]
  },
  {
   "cell_type": "code",
   "execution_count": 15,
   "metadata": {},
   "outputs": [
    {
     "data": {
      "text/plain": [
       "Index(['Frank Swietek', 'Roger Moore', 'Brian Orndorf', 'Jeffrey M. Anderson',\n",
       "       'Rich Cline', 'Nell Minow', 'Laura Clifford', 'James Berardinelli',\n",
       "       'Dennis Schwartz', 'David Nusair',\n",
       "       ...\n",
       "       'Anne Crump', 'Simon Guerrier', 'Valeriy Kolyadych',\n",
       "       'Juan José Ontiveros', 'Megan Moffat', 'Mekeisha Madden Toby',\n",
       "       'Hannah Chambers', 'Philip Horne', 'Jerrica Tisdale', 'Rob Beames'],\n",
       "      dtype='object', name='criticName', length=6093)"
      ]
     },
     "execution_count": 15,
     "metadata": {},
     "output_type": "execute_result"
    }
   ],
   "source": [
    "selected_index_2"
   ]
  },
  {
   "cell_type": "code",
   "execution_count": 16,
   "metadata": {},
   "outputs": [
    {
     "data": {
      "text/html": [
       "<div>\n",
       "<style scoped>\n",
       "    .dataframe tbody tr th:only-of-type {\n",
       "        vertical-align: middle;\n",
       "    }\n",
       "\n",
       "    .dataframe tbody tr th {\n",
       "        vertical-align: top;\n",
       "    }\n",
       "\n",
       "    .dataframe thead th {\n",
       "        text-align: right;\n",
       "    }\n",
       "</style>\n",
       "<table border=\"1\" class=\"dataframe\">\n",
       "  <thead>\n",
       "    <tr style=\"text-align: right;\">\n",
       "      <th></th>\n",
       "      <th>id</th>\n",
       "      <th>reviewId</th>\n",
       "      <th>creationDate</th>\n",
       "      <th>criticName</th>\n",
       "      <th>isTopCritic</th>\n",
       "      <th>originalScore</th>\n",
       "      <th>reviewState</th>\n",
       "      <th>publicatioName</th>\n",
       "      <th>reviewText</th>\n",
       "      <th>scoreSentiment</th>\n",
       "      <th>reviewUrl</th>\n",
       "    </tr>\n",
       "  </thead>\n",
       "  <tbody>\n",
       "    <tr>\n",
       "      <th>0</th>\n",
       "      <td>the_duff</td>\n",
       "      <td>2763233</td>\n",
       "      <td>2021-02-02</td>\n",
       "      <td>Richard Crouse</td>\n",
       "      <td>False</td>\n",
       "      <td>3/5</td>\n",
       "      <td>fresh</td>\n",
       "      <td>Richard Crouse</td>\n",
       "      <td>A school comedy so predictable the screenwrite...</td>\n",
       "      <td>POSITIVE</td>\n",
       "      <td>http://www.richardcrouse.ca/the-duff-3-stars-a...</td>\n",
       "    </tr>\n",
       "    <tr>\n",
       "      <th>1</th>\n",
       "      <td>the_duff</td>\n",
       "      <td>2692661</td>\n",
       "      <td>2020-05-27</td>\n",
       "      <td>Andrew Galdi</td>\n",
       "      <td>False</td>\n",
       "      <td>NaN</td>\n",
       "      <td>fresh</td>\n",
       "      <td>Movie Bitches</td>\n",
       "      <td>It was good acting and good writing.</td>\n",
       "      <td>POSITIVE</td>\n",
       "      <td>https://www.youtube.com/watch?v=8KeoWwUtXVQ&amp;li...</td>\n",
       "    </tr>\n",
       "    <tr>\n",
       "      <th>2</th>\n",
       "      <td>the_duff</td>\n",
       "      <td>2679627</td>\n",
       "      <td>2020-03-26</td>\n",
       "      <td>Avaryl Halley</td>\n",
       "      <td>False</td>\n",
       "      <td>NaN</td>\n",
       "      <td>fresh</td>\n",
       "      <td>Movie Bitches</td>\n",
       "      <td>Oh dear, am I the Duff?</td>\n",
       "      <td>POSITIVE</td>\n",
       "      <td>https://www.youtube.com/watch?v=8KeoWwUtXVQ&amp;li...</td>\n",
       "    </tr>\n",
       "    <tr>\n",
       "      <th>3</th>\n",
       "      <td>the_duff</td>\n",
       "      <td>2615809</td>\n",
       "      <td>2019-08-15</td>\n",
       "      <td>Udita Jhunjhunwala</td>\n",
       "      <td>True</td>\n",
       "      <td>NaN</td>\n",
       "      <td>fresh</td>\n",
       "      <td>Livemint</td>\n",
       "      <td>While director Ari Sandel's adaptation is devo...</td>\n",
       "      <td>POSITIVE</td>\n",
       "      <td>https://www.livemint.com/Leisure/3wDs58QVt0Mtm...</td>\n",
       "    </tr>\n",
       "    <tr>\n",
       "      <th>4</th>\n",
       "      <td>the_duff</td>\n",
       "      <td>2586271</td>\n",
       "      <td>2019-05-14</td>\n",
       "      <td>Olivia Luder</td>\n",
       "      <td>True</td>\n",
       "      <td>3/5</td>\n",
       "      <td>fresh</td>\n",
       "      <td>One Room With A View</td>\n",
       "      <td>Not clever enough to be genre-defining in its ...</td>\n",
       "      <td>POSITIVE</td>\n",
       "      <td>https://oneroomwithaview.com/2015/03/06/duff-r...</td>\n",
       "    </tr>\n",
       "    <tr>\n",
       "      <th>...</th>\n",
       "      <td>...</td>\n",
       "      <td>...</td>\n",
       "      <td>...</td>\n",
       "      <td>...</td>\n",
       "      <td>...</td>\n",
       "      <td>...</td>\n",
       "      <td>...</td>\n",
       "      <td>...</td>\n",
       "      <td>...</td>\n",
       "      <td>...</td>\n",
       "      <td>...</td>\n",
       "    </tr>\n",
       "    <tr>\n",
       "      <th>925866</th>\n",
       "      <td>thor_love_and_thunder</td>\n",
       "      <td>102706151</td>\n",
       "      <td>2022-07-05</td>\n",
       "      <td>Christie Cronan</td>\n",
       "      <td>False</td>\n",
       "      <td>7/10</td>\n",
       "      <td>fresh</td>\n",
       "      <td>Raising Whasians</td>\n",
       "      <td>Solid but not totally sold&amp;#44; Thor&amp;#58; Ragn...</td>\n",
       "      <td>POSITIVE</td>\n",
       "      <td>https://raisingwhasians.com/thor-love-and-thun...</td>\n",
       "    </tr>\n",
       "    <tr>\n",
       "      <th>925867</th>\n",
       "      <td>thor_love_and_thunder</td>\n",
       "      <td>102706150</td>\n",
       "      <td>2022-07-05</td>\n",
       "      <td>Ian Sandwell</td>\n",
       "      <td>False</td>\n",
       "      <td>4/5</td>\n",
       "      <td>fresh</td>\n",
       "      <td>Digital Spy</td>\n",
       "      <td>Thor&amp;#58; Love and Thunder is the most enterta...</td>\n",
       "      <td>POSITIVE</td>\n",
       "      <td>https://www.digitalspy.com/movies/a40496050/th...</td>\n",
       "    </tr>\n",
       "    <tr>\n",
       "      <th>925868</th>\n",
       "      <td>thor_love_and_thunder</td>\n",
       "      <td>102706149</td>\n",
       "      <td>2022-07-05</td>\n",
       "      <td>Lauren LaMagna</td>\n",
       "      <td>False</td>\n",
       "      <td>8/10</td>\n",
       "      <td>fresh</td>\n",
       "      <td>Next Best Picture</td>\n",
       "      <td>&amp;quot;Thor&amp;#58; Love and Thunder&amp;quot; is a st...</td>\n",
       "      <td>POSITIVE</td>\n",
       "      <td>https://www.nextbestpicture.com/thor-love-and-...</td>\n",
       "    </tr>\n",
       "    <tr>\n",
       "      <th>925869</th>\n",
       "      <td>thor_love_and_thunder</td>\n",
       "      <td>102706148</td>\n",
       "      <td>2022-07-05</td>\n",
       "      <td>Jake Cole</td>\n",
       "      <td>True</td>\n",
       "      <td>1/4</td>\n",
       "      <td>rotten</td>\n",
       "      <td>Slant Magazine</td>\n",
       "      <td>Across Taika Waititi&amp;#8217;s film&amp;#44; a war a...</td>\n",
       "      <td>NEGATIVE</td>\n",
       "      <td>https://www.slantmagazine.com/film/thor-love-a...</td>\n",
       "    </tr>\n",
       "    <tr>\n",
       "      <th>925870</th>\n",
       "      <td>thor_love_and_thunder</td>\n",
       "      <td>102706147</td>\n",
       "      <td>2022-07-05</td>\n",
       "      <td>Roger Moore</td>\n",
       "      <td>False</td>\n",
       "      <td>2.5/4</td>\n",
       "      <td>fresh</td>\n",
       "      <td>Movie Nation</td>\n",
       "      <td>It&amp;#8217;s the jokes that make it&amp;#44; with th...</td>\n",
       "      <td>POSITIVE</td>\n",
       "      <td>https://rogersmovienation.com/2022/07/05/movie...</td>\n",
       "    </tr>\n",
       "  </tbody>\n",
       "</table>\n",
       "<p>917415 rows × 11 columns</p>\n",
       "</div>"
      ],
      "text/plain": [
       "                           id   reviewId creationDate          criticName  \\\n",
       "0                    the_duff    2763233   2021-02-02      Richard Crouse   \n",
       "1                    the_duff    2692661   2020-05-27        Andrew Galdi   \n",
       "2                    the_duff    2679627   2020-03-26       Avaryl Halley   \n",
       "3                    the_duff    2615809   2019-08-15  Udita Jhunjhunwala   \n",
       "4                    the_duff    2586271   2019-05-14        Olivia Luder   \n",
       "...                       ...        ...          ...                 ...   \n",
       "925866  thor_love_and_thunder  102706151   2022-07-05     Christie Cronan   \n",
       "925867  thor_love_and_thunder  102706150   2022-07-05        Ian Sandwell   \n",
       "925868  thor_love_and_thunder  102706149   2022-07-05      Lauren LaMagna   \n",
       "925869  thor_love_and_thunder  102706148   2022-07-05           Jake Cole   \n",
       "925870  thor_love_and_thunder  102706147   2022-07-05         Roger Moore   \n",
       "\n",
       "        isTopCritic originalScore reviewState        publicatioName  \\\n",
       "0             False           3/5       fresh        Richard Crouse   \n",
       "1             False           NaN       fresh         Movie Bitches   \n",
       "2             False           NaN       fresh         Movie Bitches   \n",
       "3              True           NaN       fresh              Livemint   \n",
       "4              True           3/5       fresh  One Room With A View   \n",
       "...             ...           ...         ...                   ...   \n",
       "925866        False          7/10       fresh      Raising Whasians   \n",
       "925867        False           4/5       fresh           Digital Spy   \n",
       "925868        False          8/10       fresh     Next Best Picture   \n",
       "925869         True           1/4      rotten        Slant Magazine   \n",
       "925870        False         2.5/4       fresh          Movie Nation   \n",
       "\n",
       "                                               reviewText scoreSentiment  \\\n",
       "0       A school comedy so predictable the screenwrite...       POSITIVE   \n",
       "1                    It was good acting and good writing.       POSITIVE   \n",
       "2                                 Oh dear, am I the Duff?       POSITIVE   \n",
       "3       While director Ari Sandel's adaptation is devo...       POSITIVE   \n",
       "4       Not clever enough to be genre-defining in its ...       POSITIVE   \n",
       "...                                                   ...            ...   \n",
       "925866  Solid but not totally sold&#44; Thor&#58; Ragn...       POSITIVE   \n",
       "925867  Thor&#58; Love and Thunder is the most enterta...       POSITIVE   \n",
       "925868  &quot;Thor&#58; Love and Thunder&quot; is a st...       POSITIVE   \n",
       "925869  Across Taika Waititi&#8217;s film&#44; a war a...       NEGATIVE   \n",
       "925870  It&#8217;s the jokes that make it&#44; with th...       POSITIVE   \n",
       "\n",
       "                                                reviewUrl  \n",
       "0       http://www.richardcrouse.ca/the-duff-3-stars-a...  \n",
       "1       https://www.youtube.com/watch?v=8KeoWwUtXVQ&li...  \n",
       "2       https://www.youtube.com/watch?v=8KeoWwUtXVQ&li...  \n",
       "3       https://www.livemint.com/Leisure/3wDs58QVt0Mtm...  \n",
       "4       https://oneroomwithaview.com/2015/03/06/duff-r...  \n",
       "...                                                   ...  \n",
       "925866  https://raisingwhasians.com/thor-love-and-thun...  \n",
       "925867  https://www.digitalspy.com/movies/a40496050/th...  \n",
       "925868  https://www.nextbestpicture.com/thor-love-and-...  \n",
       "925869  https://www.slantmagazine.com/film/thor-love-a...  \n",
       "925870  https://rogersmovienation.com/2022/07/05/movie...  \n",
       "\n",
       "[917415 rows x 11 columns]"
      ]
     },
     "execution_count": 16,
     "metadata": {},
     "output_type": "execute_result"
    }
   ],
   "source": [
    "# 추출된 Index로 selected_df에서 리뷰 데이터(final_df) 추출\n",
    "final_df = selected_df[selected_df['criticName'].isin(selected_index_2)]\n",
    "final_df"
   ]
  },
  {
   "cell_type": "code",
   "execution_count": 17,
   "metadata": {},
   "outputs": [],
   "source": [
    "final_df.reset_index(drop=True,inplace=True)"
   ]
  },
  {
   "cell_type": "code",
   "execution_count": null,
   "metadata": {},
   "outputs": [],
   "source": [
    "# fresh 여부를 기준으로 데이터 split\n",
    "X_train, X_test, Y_train, Y_test = train_test_split(final_df.drop('reviewState', axis=1), final_df['reviewState'], stratify=final_df.criticName, test_size=0.1)\n",
    "X_train, X_val, Y_train, Y_val = train_test_split(X_train, Y_train, stratify=X_train.criticName, test_size=0.25)"
   ]
  },
  {
   "cell_type": "code",
   "execution_count": null,
   "metadata": {},
   "outputs": [],
   "source": [
    "X_train"
   ]
  },
  {
   "cell_type": "markdown",
   "metadata": {},
   "source": [
    "# 01 MF 모델 구축해보기"
   ]
  },
  {
   "cell_type": "markdown",
   "metadata": {},
   "source": [
    "## 1. 전처리 이후 df 를 MF 모델 구성에 맞게 구성\n",
    "### 전처리가 끝나고 Train, test 나눈 이후"
   ]
  },
  {
   "cell_type": "code",
   "execution_count": null,
   "metadata": {},
   "outputs": [],
   "source": [
    "final_df"
   ]
  },
  {
   "cell_type": "code",
   "execution_count": null,
   "metadata": {},
   "outputs": [],
   "source": [
    "df_1 = final_df.copy()"
   ]
  },
  {
   "cell_type": "code",
   "execution_count": null,
   "metadata": {},
   "outputs": [],
   "source": [
    "from sklearn.preprocessing import LabelEncoder\n",
    "# Fresh 여부를 숫자로 변환\n",
    "df_1['freshness'] = df_1['reviewState'].map({'fresh': 1, 'rotten': 0})\n",
    "\n",
    "# Fresh 여부가 nan인 경우 선호하지 않는 것으올 간주 -> 0으로 치환\n",
    "df_1['freshness'].fillna(0,inplace=True)\n",
    "\n",
    "# 사용자와 영화 ID를 Label Encoding\n",
    "le_user = LabelEncoder()\n",
    "le_movie = LabelEncoder()\n",
    "\n",
    "df_1['user_id'] = le_user.fit_transform(df_1['criticName'])\n",
    "df_1['movie_id'] = le_movie.fit_transform(df_1['id'])\n",
    "\n",
    "# 필요한 열만 유지\n",
    "data = df_1[['user_id', 'movie_id', 'freshness']]\n",
    "\n",
    "\n",
    "train, test = train_test_split(data, test_size=0.2, random_state=42)"
   ]
  },
  {
   "cell_type": "markdown",
   "metadata": {},
   "source": [
    "## 2. 유저-영화 행렬 생성"
   ]
  },
  {
   "cell_type": "code",
   "execution_count": null,
   "metadata": {},
   "outputs": [],
   "source": [
    "import numpy as np\n",
    "\n",
    "# 사용자-영화 매트릭스 생성\n",
    "num_users = data['user_id'].nunique()\n",
    "num_movies = data['movie_id'].nunique()\n",
    "\n",
    "rating_matrix = np.zeros((num_users, num_movies))\n",
    "for row in train.itertuples():\n",
    "    rating_matrix[row.user_id, row.movie_id] = row.freshness\n"
   ]
  },
  {
   "cell_type": "markdown",
   "metadata": {},
   "source": [
    "## 4. train 셋을 통해 MF 모델 학습\n"
   ]
  },
  {
   "cell_type": "code",
   "execution_count": null,
   "metadata": {},
   "outputs": [],
   "source": [
    "from sklearn.metrics import mean_squared_error\n",
    "\n",
    "# 사용자와 영화 잠재 행렬 초기화\n",
    "latent_features = 10\n",
    "U = np.random.rand(num_users, latent_features)\n",
    "V = np.random.rand(num_movies, latent_features)\n",
    "\n",
    "# 하이퍼파라미터 설정\n",
    "learning_rate = 0.01\n",
    "regularization = 0.1\n",
    "epochs = 50\n",
    "\n",
    "# 학습 루프\n",
    "for epoch in range(epochs):\n",
    "    for user in range(num_users):\n",
    "        for movie in range(num_movies):\n",
    "            error = rating_matrix[user, movie] - np.dot(U[user, :], V[movie, :])\n",
    "            U[user, :] += learning_rate * (error * V[movie, :] - regularization * U[user, :])\n",
    "            V[movie, :] += learning_rate * (error * U[user, :] - regularization * V[movie, :])\n",
    "\n",
    "# 예측\n",
    "predicted_matrix = np.dot(U, V.T)\n"
   ]
  },
  {
   "cell_type": "markdown",
   "metadata": {},
   "source": [
    "## 5.Test셋 모델 테스트"
   ]
  },
  {
   "cell_type": "code",
   "execution_count": null,
   "metadata": {},
   "outputs": [],
   "source": [
    "# Test 데이터에서 RMSE 계산\n",
    "observed = []\n",
    "predicted = []\n",
    "\n",
    "for row in test.itertuples():\n",
    "    obs = row.freshness\n",
    "    pred = predicted_matrix[row.user_id, row.movie_id]\n",
    "    observed.append(obs)\n",
    "    predicted.append(pred)\n",
    "\n",
    "rmse = np.sqrt(mean_squared_error(observed, predicted))\n",
    "print(f\"RMSE: {rmse}\")\n"
   ]
  },
  {
   "cell_type": "code",
   "execution_count": null,
   "metadata": {},
   "outputs": [],
   "source": [
    "min(predicted)"
   ]
  },
  {
   "cell_type": "markdown",
   "metadata": {},
   "source": [
    "# GNNsage 사용"
   ]
  },
  {
   "cell_type": "markdown",
   "metadata": {},
   "source": [
    "## 1. df graph 형식으로 바꾸기"
   ]
  },
  {
   "cell_type": "code",
   "execution_count": 18,
   "metadata": {},
   "outputs": [],
   "source": [
    "import networkx as nx\n",
    "import matplotlib.pyplot as plt\n",
    "from torch_geometric.utils import to_networkx\n",
    "\n",
    "# 1. 그래프 구조 시각화\n",
    "def visualize_graph(data):\n",
    "    \"\"\"\n",
    "    PyTorch Geometric 데이터를 NetworkX로 변환하여 그래프 시각화.\n",
    "    \"\"\"\n",
    "    graph = to_networkx(data, to_undirected=True)\n",
    "    plt.figure(figsize=(10, 10))\n",
    "    pos = nx.spring_layout(graph, seed=42)  # 노드 배치\n",
    "    nx.draw(graph, pos, with_labels=False, node_size=20, node_color='blue', alpha=0.7)\n",
    "    plt.title(\"Graph Visualization: Movies and Reviews\", fontsize=16)\n",
    "    plt.show()"
   ]
  },
  {
   "cell_type": "code",
   "execution_count": 19,
   "metadata": {},
   "outputs": [],
   "source": [
    "import torch\n",
    "from torch_geometric.data import Data\n",
    "from torch_geometric.nn import SAGEConv\n",
    "from sklearn.metrics import accuracy_score"
   ]
  },
  {
   "cell_type": "code",
   "execution_count": 20,
   "metadata": {},
   "outputs": [],
   "source": [
    "\n",
    "# 1. 데이터 로드\n",
    "# Rotten Tomatoes 데이터셋 카피\n",
    "df_2 = final_df.copy()\n",
    "# 예시 데이터 구조: ['review_id', 'movie_id', 'review_text', 'fresh']\n",
    "\n",
    "# 라벨 인코딩 (Fresh -> 1, Not Fresh -> 0)\n",
    "df_2['fresh_label'] = df_2['reviewState'].map({'fresh': 1, 'rotten': 0})"
   ]
  },
  {
   "cell_type": "code",
   "execution_count": 28,
   "metadata": {},
   "outputs": [],
   "source": [
    "\n",
    "# 2. 그래프 생성\n",
    "# 노드와 엣지 정의\n",
    "movie_ids = df_2['id'].unique()\n",
    "review_ids = df_2['reviewId'].unique()\n",
    "\n",
    "# 영화와 리뷰를 각각 노드로 정의\n",
    "movie_idx = {movie_id: i for i, movie_id in enumerate(movie_ids)}\n",
    "review_idx = {review_id: i + len(movie_ids) for i, review_id in enumerate(review_ids)}\n",
    "\n",
    "# 엣지 리스트 생성 (리뷰 <-> 영화 관계)\n",
    "edges = []\n",
    "for _, row in df_2.iterrows():\n",
    "    edges.append([review_idx[row['reviewId']], movie_idx[row['id']]])"
   ]
  },
  {
   "cell_type": "code",
   "execution_count": 29,
   "metadata": {},
   "outputs": [],
   "source": [
    "# 엣지를 PyTorch 텐서로 변환\n",
    "edge_index = torch.tensor(edges, dtype=torch.long).t().contiguous()\n",
    "\n",
    "# 노드 특징 (여기서는 임의로 임베딩을 초기화)\n",
    "num_nodes = len(movie_ids) + len(review_ids)\n",
    "x = torch.randn((num_nodes, 16))  # 16차원의 임베딩 벡터 초기화\n",
    "\n",
    "# 라벨 (Fresh 여부)\n",
    "y = torch.tensor(df_2['fresh_label'].values, dtype=torch.long)\n",
    "\n",
    "# 3. PyTorch Geometric 데이터 구성\n",
    "data = Data(x=x, edge_index=edge_index, y=y)"
   ]
  },
  {
   "cell_type": "code",
   "execution_count": 30,
   "metadata": {},
   "outputs": [
    {
     "data": {
      "text/plain": [
       "Data(x=[924378, 16], edge_index=[2, 917415], y=[917415])"
      ]
     },
     "execution_count": 30,
     "metadata": {},
     "output_type": "execute_result"
    }
   ],
   "source": [
    "data"
   ]
  },
  {
   "cell_type": "code",
   "execution_count": 31,
   "metadata": {},
   "outputs": [],
   "source": [
    "# 4. 학습/테스트 데이터 분리\n",
    "train_mask, test_mask = train_test_split(range(len(df_2)), test_size=0.2, random_state=42)\n",
    "data.train_mask = torch.tensor(train_mask, dtype=torch.long)\n",
    "data.test_mask = torch.tensor(test_mask, dtype=torch.long)\n"
   ]
  },
  {
   "cell_type": "code",
   "execution_count": 32,
   "metadata": {},
   "outputs": [],
   "source": [
    "# 5. GraphSAGE 모델 정의\n",
    "class GraphSAGE(torch.nn.Module):\n",
    "    def __init__(self, in_channels, hidden_channels, out_channels):\n",
    "        super(GraphSAGE, self).__init__()\n",
    "        self.conv1 = SAGEConv(in_channels, hidden_channels)\n",
    "        self.conv2 = SAGEConv(hidden_channels, out_channels)\n",
    "\n",
    "    def forward(self, x, edge_index):\n",
    "        x = self.conv1(x, edge_index)\n",
    "        x = torch.relu(x)\n",
    "        x = self.conv2(x, edge_index)\n",
    "        return x"
   ]
  },
  {
   "cell_type": "code",
   "execution_count": 33,
   "metadata": {},
   "outputs": [],
   "source": [
    "# 모델 초기화\n",
    "model = GraphSAGE(in_channels=16, hidden_channels=32, out_channels=2)  # 2 클래스 (Fresh/Not Fresh)\n",
    "optimizer = torch.optim.Adam(model.parameters(), lr=0.01)\n",
    "criterion = torch.nn.CrossEntropyLoss()\n"
   ]
  },
  {
   "cell_type": "code",
   "execution_count": 34,
   "metadata": {},
   "outputs": [],
   "source": [
    "# 6. 모델 학습\n",
    "def train():\n",
    "    model.train()\n",
    "    optimizer.zero_grad()\n",
    "    out = model(data.x, data.edge_index)\n",
    "    loss = criterion(out[data.train_mask], data.y[data.train_mask])\n",
    "    loss.backward()\n",
    "    optimizer.step()\n",
    "    return loss.item()\n",
    "\n",
    "# 7. 테스트\n",
    "def test(mask):\n",
    "    model.eval()\n",
    "    with torch.no_grad():\n",
    "        out = model(data.x, data.edge_index)\n",
    "        pred = out[mask].max(1)[1]\n",
    "        acc = accuracy_score(data.y[mask].cpu(), pred.cpu())\n",
    "    return acc"
   ]
  },
  {
   "cell_type": "code",
   "execution_count": 35,
   "metadata": {},
   "outputs": [
    {
     "name": "stdout",
     "output_type": "stream",
     "text": [
      "Epoch 1, Loss: 0.7130, Train Acc: 0.5783, Test Acc: 0.5775\n",
      "Epoch 2, Loss: 0.6780, Train Acc: 0.6489, Test Acc: 0.6471\n",
      "Epoch 3, Loss: 0.6560, Train Acc: 0.6648, Test Acc: 0.6634\n",
      "Epoch 4, Loss: 0.6460, Train Acc: 0.6665, Test Acc: 0.6651\n",
      "Epoch 5, Loss: 0.6455, Train Acc: 0.6665, Test Acc: 0.6652\n",
      "Epoch 6, Loss: 0.6497, Train Acc: 0.6665, Test Acc: 0.6652\n",
      "Epoch 7, Loss: 0.6536, Train Acc: 0.6665, Test Acc: 0.6652\n",
      "Epoch 8, Loss: 0.6547, Train Acc: 0.6665, Test Acc: 0.6652\n",
      "Epoch 9, Loss: 0.6529, Train Acc: 0.6665, Test Acc: 0.6652\n",
      "Epoch 10, Loss: 0.6494, Train Acc: 0.6665, Test Acc: 0.6652\n",
      "Epoch 11, Loss: 0.6458, Train Acc: 0.6665, Test Acc: 0.6652\n",
      "Epoch 12, Loss: 0.6429, Train Acc: 0.6665, Test Acc: 0.6652\n",
      "Epoch 13, Loss: 0.6414, Train Acc: 0.6665, Test Acc: 0.6652\n",
      "Epoch 14, Loss: 0.6412, Train Acc: 0.6664, Test Acc: 0.6650\n",
      "Epoch 15, Loss: 0.6418, Train Acc: 0.6663, Test Acc: 0.6648\n",
      "Epoch 16, Loss: 0.6427, Train Acc: 0.6662, Test Acc: 0.6648\n",
      "Epoch 17, Loss: 0.6435, Train Acc: 0.6661, Test Acc: 0.6647\n",
      "Epoch 18, Loss: 0.6439, Train Acc: 0.6662, Test Acc: 0.6647\n",
      "Epoch 19, Loss: 0.6437, Train Acc: 0.6663, Test Acc: 0.6649\n",
      "Epoch 20, Loss: 0.6430, Train Acc: 0.6664, Test Acc: 0.6650\n",
      "Epoch 21, Loss: 0.6420, Train Acc: 0.6665, Test Acc: 0.6651\n",
      "Epoch 22, Loss: 0.6410, Train Acc: 0.6665, Test Acc: 0.6652\n",
      "Epoch 23, Loss: 0.6401, Train Acc: 0.6665, Test Acc: 0.6652\n",
      "Epoch 24, Loss: 0.6395, Train Acc: 0.6665, Test Acc: 0.6652\n",
      "Epoch 25, Loss: 0.6394, Train Acc: 0.6665, Test Acc: 0.6652\n",
      "Epoch 26, Loss: 0.6395, Train Acc: 0.6665, Test Acc: 0.6652\n",
      "Epoch 27, Loss: 0.6398, Train Acc: 0.6665, Test Acc: 0.6652\n",
      "Epoch 28, Loss: 0.6401, Train Acc: 0.6665, Test Acc: 0.6652\n",
      "Epoch 29, Loss: 0.6402, Train Acc: 0.6665, Test Acc: 0.6652\n",
      "Epoch 30, Loss: 0.6401, Train Acc: 0.6665, Test Acc: 0.6652\n",
      "Epoch 31, Loss: 0.6398, Train Acc: 0.6665, Test Acc: 0.6652\n",
      "Epoch 32, Loss: 0.6394, Train Acc: 0.6665, Test Acc: 0.6652\n",
      "Epoch 33, Loss: 0.6390, Train Acc: 0.6665, Test Acc: 0.6652\n",
      "Epoch 34, Loss: 0.6388, Train Acc: 0.6665, Test Acc: 0.6652\n",
      "Epoch 35, Loss: 0.6387, Train Acc: 0.6665, Test Acc: 0.6652\n",
      "Epoch 36, Loss: 0.6387, Train Acc: 0.6665, Test Acc: 0.6652\n",
      "Epoch 37, Loss: 0.6387, Train Acc: 0.6665, Test Acc: 0.6652\n",
      "Epoch 38, Loss: 0.6388, Train Acc: 0.6665, Test Acc: 0.6652\n",
      "Epoch 39, Loss: 0.6388, Train Acc: 0.6665, Test Acc: 0.6652\n",
      "Epoch 40, Loss: 0.6387, Train Acc: 0.6665, Test Acc: 0.6652\n",
      "Epoch 41, Loss: 0.6386, Train Acc: 0.6665, Test Acc: 0.6652\n",
      "Epoch 42, Loss: 0.6384, Train Acc: 0.6665, Test Acc: 0.6652\n",
      "Epoch 43, Loss: 0.6383, Train Acc: 0.6665, Test Acc: 0.6652\n",
      "Epoch 44, Loss: 0.6382, Train Acc: 0.6665, Test Acc: 0.6652\n",
      "Epoch 45, Loss: 0.6381, Train Acc: 0.6665, Test Acc: 0.6652\n",
      "Epoch 46, Loss: 0.6381, Train Acc: 0.6665, Test Acc: 0.6652\n",
      "Epoch 47, Loss: 0.6381, Train Acc: 0.6665, Test Acc: 0.6652\n",
      "Epoch 48, Loss: 0.6381, Train Acc: 0.6665, Test Acc: 0.6652\n",
      "Epoch 49, Loss: 0.6381, Train Acc: 0.6665, Test Acc: 0.6652\n",
      "Epoch 50, Loss: 0.6381, Train Acc: 0.6665, Test Acc: 0.6652\n",
      "Final Test Accuracy: 0.6652\n"
     ]
    }
   ],
   "source": [
    "\n",
    "\n",
    "# 학습 루프\n",
    "for epoch in range(50):  # 50 에포크\n",
    "    loss = train()\n",
    "    train_acc = test(data.train_mask)\n",
    "    test_acc = test(data.test_mask)\n",
    "    print(f'Epoch {epoch+1}, Loss: {loss:.4f}, Train Acc: {train_acc:.4f}, Test Acc: {test_acc:.4f}')\n",
    "\n",
    "# 학습 완료 후 테스트 정확도 출력\n",
    "print(f'Final Test Accuracy: {test_acc:.4f}')\n"
   ]
  },
  {
   "cell_type": "markdown",
   "metadata": {},
   "source": [
    "# test"
   ]
  },
  {
   "cell_type": "code",
   "execution_count": 36,
   "metadata": {},
   "outputs": [
    {
     "data": {
      "text/plain": [
       "Index(['id', 'reviewId', 'creationDate', 'criticName', 'isTopCritic',\n",
       "       'originalScore', 'reviewState', 'publicatioName', 'reviewText',\n",
       "       'scoreSentiment', 'reviewUrl', 'fresh_label'],\n",
       "      dtype='object')"
      ]
     },
     "execution_count": 36,
     "metadata": {},
     "output_type": "execute_result"
    }
   ],
   "source": [
    "df_2.columns"
   ]
  },
  {
   "cell_type": "code",
   "execution_count": 37,
   "metadata": {},
   "outputs": [],
   "source": [
    "import pandas as pd\n",
    "import torch\n",
    "from torch_geometric.data import HeteroData\n",
    "from torch_geometric.nn import SAGEConv\n",
    "from sklearn.model_selection import train_test_split\n",
    "import numpy as np\n",
    "\n",
    "# Step 1: Load Rotten Tomato Data\n",
    "# (Assume you have a CSV with 'user_id', 'movie_id', and 'freshness' columns)\n",
    "df_3 = final_df.copy()\n",
    "\n",
    "# Preprocess data\n",
    "user_ids = df_3['criticName'].unique()\n",
    "movie_ids = df_3['id'].unique()\n",
    "\n",
    "# Map user and movie IDs to indices\n",
    "user_mapping = {user_id: i for i, user_id in enumerate(user_ids)}\n",
    "movie_mapping = {movie_id: i for i, movie_id in enumerate(movie_ids)}\n",
    "\n",
    "df_3['user_idx'] = df_3['criticName'].map(user_mapping)\n",
    "df_3['movie_idx'] = df_3['id'].map(movie_mapping)\n",
    "\n",
    "# Encode freshness (1 for fresh, 0 for rotten)\n",
    "df_3['freshness'] = df_3['reviewState'].apply(lambda x: 1 if x == 'fresh' else 0)"
   ]
  },
  {
   "cell_type": "code",
   "execution_count": 39,
   "metadata": {},
   "outputs": [],
   "source": [
    "\n",
    "\n",
    "# Step 2: Create Heterogeneous Graph\n",
    "graph = HeteroData()\n",
    "\n",
    "# Add user and movie nodes\n",
    "graph['user'].num_nodes = len(user_ids)\n",
    "graph['movie'].num_nodes = len(movie_ids)\n",
    "\n",
    "# Add edges with freshness as edge attributes\n",
    "user_movie_edges = torch.tensor(df_3[['user_idx', 'movie_idx']].values.T, dtype=torch.long)\n",
    "freshness = torch.tensor(df_3['freshness'].values, dtype=torch.float)\n",
    "\n",
    "graph['user', 'rates', 'movie'].edge_index = user_movie_edges\n",
    "graph['user', 'rates', 'movie'].edge_attr = freshness\n",
    "\n",
    "# Add reverse edges for bidirectional connections\n",
    "graph['movie', 'rated_by', 'user'].edge_index = user_movie_edges.flip(0)\n",
    "graph['movie', 'rated_by', 'user'].edge_attr = freshness"
   ]
  },
  {
   "cell_type": "code",
   "execution_count": 40,
   "metadata": {},
   "outputs": [],
   "source": [
    "# Step 3: Define GraphSAGE Model\n",
    "class GraphSAGE(torch.nn.Module):\n",
    "    def __init__(self, hidden_channels, out_channels):\n",
    "        super().__init__()\n",
    "        self.conv1 = SAGEConv((-1, -1), hidden_channels)\n",
    "        self.conv2 = SAGEConv((-1, -1), out_channels)\n",
    "\n",
    "    def forward(self, x_user, x_movie, edge_index_user_movie, edge_index_movie_user):\n",
    "        # User node embeddings\n",
    "        x_user = self.conv1((x_user, x_movie), edge_index_user_movie)\n",
    "        x_user = torch.relu(x_user)\n",
    "        x_user = self.conv2((x_user, x_movie), edge_index_user_movie)\n",
    "\n",
    "        # Movie node embeddings\n",
    "        x_movie = self.conv1((x_movie, x_user), edge_index_movie_user)\n",
    "        x_movie = torch.relu(x_movie)\n",
    "        x_movie = self.conv2((x_movie, x_user), edge_index_movie_user)\n",
    "\n",
    "        return x_user, x_movie"
   ]
  },
  {
   "cell_type": "code",
   "execution_count": 42,
   "metadata": {},
   "outputs": [],
   "source": [
    "# Step 4: Initialize Model, Optimizer, and Loss\n",
    "model = GraphSAGE(hidden_channels=64, out_channels=32)\n",
    "\n",
    "# Randomly initialize user and movie node features\n",
    "num_user_features = 64\n",
    "num_movie_features = 64\n",
    "x_user = torch.randn((len(user_ids), num_user_features), requires_grad=True)\n",
    "x_movie = torch.randn((len(movie_ids), num_movie_features), requires_grad=True)\n",
    "\n",
    "optimizer = torch.optim.Adam(list(model.parameters()) + [x_user, x_movie], lr=0.01)\n",
    "criterion = torch.nn.BCEWithLogitsLoss()"
   ]
  },
  {
   "cell_type": "code",
   "execution_count": 43,
   "metadata": {},
   "outputs": [],
   "source": [
    "# Step 5: Train/Test Split\n",
    "train_data, test_data = train_test_split(df_3, test_size=0.2, random_state=42)\n",
    "\n",
    "# Extract train edges\n",
    "train_edges = torch.tensor(train_data[['user_idx', 'movie_idx']].values.T, dtype=torch.long)\n",
    "train_labels = torch.tensor(train_data['freshness'].values, dtype=torch.float)"
   ]
  },
  {
   "cell_type": "code",
   "execution_count": 44,
   "metadata": {},
   "outputs": [
    {
     "ename": "RuntimeError",
     "evalue": "mat1 and mat2 shapes cannot be multiplied (6963x32 and 64x64)",
     "output_type": "error",
     "traceback": [
      "\u001b[0;31m---------------------------------------------------------------------------\u001b[0m",
      "\u001b[0;31mRuntimeError\u001b[0m                              Traceback (most recent call last)",
      "Cell \u001b[0;32mIn[44], line 7\u001b[0m\n\u001b[1;32m      4\u001b[0m optimizer\u001b[38;5;241m.\u001b[39mzero_grad()\n\u001b[1;32m      6\u001b[0m \u001b[38;5;66;03m# Forward pass\u001b[39;00m\n\u001b[0;32m----> 7\u001b[0m x_user_embed, x_movie_embed \u001b[38;5;241m=\u001b[39m \u001b[43mmodel\u001b[49m\u001b[43m(\u001b[49m\n\u001b[1;32m      8\u001b[0m \u001b[43m    \u001b[49m\u001b[43mx_user\u001b[49m\u001b[43m,\u001b[49m\u001b[43m \u001b[49m\u001b[43mx_movie\u001b[49m\u001b[43m,\u001b[49m\n\u001b[1;32m      9\u001b[0m \u001b[43m    \u001b[49m\u001b[43mgraph\u001b[49m\u001b[43m[\u001b[49m\u001b[38;5;124;43m'\u001b[39;49m\u001b[38;5;124;43muser\u001b[39;49m\u001b[38;5;124;43m'\u001b[39;49m\u001b[43m,\u001b[49m\u001b[43m \u001b[49m\u001b[38;5;124;43m'\u001b[39;49m\u001b[38;5;124;43mrates\u001b[39;49m\u001b[38;5;124;43m'\u001b[39;49m\u001b[43m,\u001b[49m\u001b[43m \u001b[49m\u001b[38;5;124;43m'\u001b[39;49m\u001b[38;5;124;43mmovie\u001b[39;49m\u001b[38;5;124;43m'\u001b[39;49m\u001b[43m]\u001b[49m\u001b[38;5;241;43m.\u001b[39;49m\u001b[43medge_index\u001b[49m\u001b[43m,\u001b[49m\n\u001b[1;32m     10\u001b[0m \u001b[43m    \u001b[49m\u001b[43mgraph\u001b[49m\u001b[43m[\u001b[49m\u001b[38;5;124;43m'\u001b[39;49m\u001b[38;5;124;43mmovie\u001b[39;49m\u001b[38;5;124;43m'\u001b[39;49m\u001b[43m,\u001b[49m\u001b[43m \u001b[49m\u001b[38;5;124;43m'\u001b[39;49m\u001b[38;5;124;43mrated_by\u001b[39;49m\u001b[38;5;124;43m'\u001b[39;49m\u001b[43m,\u001b[49m\u001b[43m \u001b[49m\u001b[38;5;124;43m'\u001b[39;49m\u001b[38;5;124;43muser\u001b[39;49m\u001b[38;5;124;43m'\u001b[39;49m\u001b[43m]\u001b[49m\u001b[38;5;241;43m.\u001b[39;49m\u001b[43medge_index\u001b[49m\n\u001b[1;32m     11\u001b[0m \u001b[43m\u001b[49m\u001b[43m)\u001b[49m\n\u001b[1;32m     13\u001b[0m \u001b[38;5;66;03m# Compute loss on training edges\u001b[39;00m\n\u001b[1;32m     14\u001b[0m user_embeds \u001b[38;5;241m=\u001b[39m x_user_embed[train_edges[\u001b[38;5;241m0\u001b[39m]]\n",
      "File \u001b[0;32m~/Documents/00_project/10 스터디/RottenTomato_exp/my_env/lib/python3.11/site-packages/torch/nn/modules/module.py:1736\u001b[0m, in \u001b[0;36mModule._wrapped_call_impl\u001b[0;34m(self, *args, **kwargs)\u001b[0m\n\u001b[1;32m   1734\u001b[0m     \u001b[38;5;28;01mreturn\u001b[39;00m \u001b[38;5;28mself\u001b[39m\u001b[38;5;241m.\u001b[39m_compiled_call_impl(\u001b[38;5;241m*\u001b[39margs, \u001b[38;5;241m*\u001b[39m\u001b[38;5;241m*\u001b[39mkwargs)  \u001b[38;5;66;03m# type: ignore[misc]\u001b[39;00m\n\u001b[1;32m   1735\u001b[0m \u001b[38;5;28;01melse\u001b[39;00m:\n\u001b[0;32m-> 1736\u001b[0m     \u001b[38;5;28;01mreturn\u001b[39;00m \u001b[38;5;28;43mself\u001b[39;49m\u001b[38;5;241;43m.\u001b[39;49m\u001b[43m_call_impl\u001b[49m\u001b[43m(\u001b[49m\u001b[38;5;241;43m*\u001b[39;49m\u001b[43margs\u001b[49m\u001b[43m,\u001b[49m\u001b[43m \u001b[49m\u001b[38;5;241;43m*\u001b[39;49m\u001b[38;5;241;43m*\u001b[39;49m\u001b[43mkwargs\u001b[49m\u001b[43m)\u001b[49m\n",
      "File \u001b[0;32m~/Documents/00_project/10 스터디/RottenTomato_exp/my_env/lib/python3.11/site-packages/torch/nn/modules/module.py:1747\u001b[0m, in \u001b[0;36mModule._call_impl\u001b[0;34m(self, *args, **kwargs)\u001b[0m\n\u001b[1;32m   1742\u001b[0m \u001b[38;5;66;03m# If we don't have any hooks, we want to skip the rest of the logic in\u001b[39;00m\n\u001b[1;32m   1743\u001b[0m \u001b[38;5;66;03m# this function, and just call forward.\u001b[39;00m\n\u001b[1;32m   1744\u001b[0m \u001b[38;5;28;01mif\u001b[39;00m \u001b[38;5;129;01mnot\u001b[39;00m (\u001b[38;5;28mself\u001b[39m\u001b[38;5;241m.\u001b[39m_backward_hooks \u001b[38;5;129;01mor\u001b[39;00m \u001b[38;5;28mself\u001b[39m\u001b[38;5;241m.\u001b[39m_backward_pre_hooks \u001b[38;5;129;01mor\u001b[39;00m \u001b[38;5;28mself\u001b[39m\u001b[38;5;241m.\u001b[39m_forward_hooks \u001b[38;5;129;01mor\u001b[39;00m \u001b[38;5;28mself\u001b[39m\u001b[38;5;241m.\u001b[39m_forward_pre_hooks\n\u001b[1;32m   1745\u001b[0m         \u001b[38;5;129;01mor\u001b[39;00m _global_backward_pre_hooks \u001b[38;5;129;01mor\u001b[39;00m _global_backward_hooks\n\u001b[1;32m   1746\u001b[0m         \u001b[38;5;129;01mor\u001b[39;00m _global_forward_hooks \u001b[38;5;129;01mor\u001b[39;00m _global_forward_pre_hooks):\n\u001b[0;32m-> 1747\u001b[0m     \u001b[38;5;28;01mreturn\u001b[39;00m \u001b[43mforward_call\u001b[49m\u001b[43m(\u001b[49m\u001b[38;5;241;43m*\u001b[39;49m\u001b[43margs\u001b[49m\u001b[43m,\u001b[49m\u001b[43m \u001b[49m\u001b[38;5;241;43m*\u001b[39;49m\u001b[38;5;241;43m*\u001b[39;49m\u001b[43mkwargs\u001b[49m\u001b[43m)\u001b[49m\n\u001b[1;32m   1749\u001b[0m result \u001b[38;5;241m=\u001b[39m \u001b[38;5;28;01mNone\u001b[39;00m\n\u001b[1;32m   1750\u001b[0m called_always_called_hooks \u001b[38;5;241m=\u001b[39m \u001b[38;5;28mset\u001b[39m()\n",
      "Cell \u001b[0;32mIn[40], line 15\u001b[0m, in \u001b[0;36mGraphSAGE.forward\u001b[0;34m(self, x_user, x_movie, edge_index_user_movie, edge_index_movie_user)\u001b[0m\n\u001b[1;32m     12\u001b[0m x_user \u001b[38;5;241m=\u001b[39m \u001b[38;5;28mself\u001b[39m\u001b[38;5;241m.\u001b[39mconv2((x_user, x_movie), edge_index_user_movie)\n\u001b[1;32m     14\u001b[0m \u001b[38;5;66;03m# Movie node embeddings\u001b[39;00m\n\u001b[0;32m---> 15\u001b[0m x_movie \u001b[38;5;241m=\u001b[39m \u001b[38;5;28;43mself\u001b[39;49m\u001b[38;5;241;43m.\u001b[39;49m\u001b[43mconv1\u001b[49m\u001b[43m(\u001b[49m\u001b[43m(\u001b[49m\u001b[43mx_movie\u001b[49m\u001b[43m,\u001b[49m\u001b[43m \u001b[49m\u001b[43mx_user\u001b[49m\u001b[43m)\u001b[49m\u001b[43m,\u001b[49m\u001b[43m \u001b[49m\u001b[43medge_index_movie_user\u001b[49m\u001b[43m)\u001b[49m\n\u001b[1;32m     16\u001b[0m x_movie \u001b[38;5;241m=\u001b[39m torch\u001b[38;5;241m.\u001b[39mrelu(x_movie)\n\u001b[1;32m     17\u001b[0m x_movie \u001b[38;5;241m=\u001b[39m \u001b[38;5;28mself\u001b[39m\u001b[38;5;241m.\u001b[39mconv2((x_movie, x_user), edge_index_movie_user)\n",
      "File \u001b[0;32m~/Documents/00_project/10 스터디/RottenTomato_exp/my_env/lib/python3.11/site-packages/torch/nn/modules/module.py:1736\u001b[0m, in \u001b[0;36mModule._wrapped_call_impl\u001b[0;34m(self, *args, **kwargs)\u001b[0m\n\u001b[1;32m   1734\u001b[0m     \u001b[38;5;28;01mreturn\u001b[39;00m \u001b[38;5;28mself\u001b[39m\u001b[38;5;241m.\u001b[39m_compiled_call_impl(\u001b[38;5;241m*\u001b[39margs, \u001b[38;5;241m*\u001b[39m\u001b[38;5;241m*\u001b[39mkwargs)  \u001b[38;5;66;03m# type: ignore[misc]\u001b[39;00m\n\u001b[1;32m   1735\u001b[0m \u001b[38;5;28;01melse\u001b[39;00m:\n\u001b[0;32m-> 1736\u001b[0m     \u001b[38;5;28;01mreturn\u001b[39;00m \u001b[38;5;28;43mself\u001b[39;49m\u001b[38;5;241;43m.\u001b[39;49m\u001b[43m_call_impl\u001b[49m\u001b[43m(\u001b[49m\u001b[38;5;241;43m*\u001b[39;49m\u001b[43margs\u001b[49m\u001b[43m,\u001b[49m\u001b[43m \u001b[49m\u001b[38;5;241;43m*\u001b[39;49m\u001b[38;5;241;43m*\u001b[39;49m\u001b[43mkwargs\u001b[49m\u001b[43m)\u001b[49m\n",
      "File \u001b[0;32m~/Documents/00_project/10 스터디/RottenTomato_exp/my_env/lib/python3.11/site-packages/torch/nn/modules/module.py:1747\u001b[0m, in \u001b[0;36mModule._call_impl\u001b[0;34m(self, *args, **kwargs)\u001b[0m\n\u001b[1;32m   1742\u001b[0m \u001b[38;5;66;03m# If we don't have any hooks, we want to skip the rest of the logic in\u001b[39;00m\n\u001b[1;32m   1743\u001b[0m \u001b[38;5;66;03m# this function, and just call forward.\u001b[39;00m\n\u001b[1;32m   1744\u001b[0m \u001b[38;5;28;01mif\u001b[39;00m \u001b[38;5;129;01mnot\u001b[39;00m (\u001b[38;5;28mself\u001b[39m\u001b[38;5;241m.\u001b[39m_backward_hooks \u001b[38;5;129;01mor\u001b[39;00m \u001b[38;5;28mself\u001b[39m\u001b[38;5;241m.\u001b[39m_backward_pre_hooks \u001b[38;5;129;01mor\u001b[39;00m \u001b[38;5;28mself\u001b[39m\u001b[38;5;241m.\u001b[39m_forward_hooks \u001b[38;5;129;01mor\u001b[39;00m \u001b[38;5;28mself\u001b[39m\u001b[38;5;241m.\u001b[39m_forward_pre_hooks\n\u001b[1;32m   1745\u001b[0m         \u001b[38;5;129;01mor\u001b[39;00m _global_backward_pre_hooks \u001b[38;5;129;01mor\u001b[39;00m _global_backward_hooks\n\u001b[1;32m   1746\u001b[0m         \u001b[38;5;129;01mor\u001b[39;00m _global_forward_hooks \u001b[38;5;129;01mor\u001b[39;00m _global_forward_pre_hooks):\n\u001b[0;32m-> 1747\u001b[0m     \u001b[38;5;28;01mreturn\u001b[39;00m \u001b[43mforward_call\u001b[49m\u001b[43m(\u001b[49m\u001b[38;5;241;43m*\u001b[39;49m\u001b[43margs\u001b[49m\u001b[43m,\u001b[49m\u001b[43m \u001b[49m\u001b[38;5;241;43m*\u001b[39;49m\u001b[38;5;241;43m*\u001b[39;49m\u001b[43mkwargs\u001b[49m\u001b[43m)\u001b[49m\n\u001b[1;32m   1749\u001b[0m result \u001b[38;5;241m=\u001b[39m \u001b[38;5;28;01mNone\u001b[39;00m\n\u001b[1;32m   1750\u001b[0m called_always_called_hooks \u001b[38;5;241m=\u001b[39m \u001b[38;5;28mset\u001b[39m()\n",
      "File \u001b[0;32m~/Documents/00_project/10 스터디/RottenTomato_exp/my_env/lib/python3.11/site-packages/torch_geometric/nn/conv/sage_conv.py:139\u001b[0m, in \u001b[0;36mSAGEConv.forward\u001b[0;34m(self, x, edge_index, size)\u001b[0m\n\u001b[1;32m    137\u001b[0m x_r \u001b[38;5;241m=\u001b[39m x[\u001b[38;5;241m1\u001b[39m]\n\u001b[1;32m    138\u001b[0m \u001b[38;5;28;01mif\u001b[39;00m \u001b[38;5;28mself\u001b[39m\u001b[38;5;241m.\u001b[39mroot_weight \u001b[38;5;129;01mand\u001b[39;00m x_r \u001b[38;5;129;01mis\u001b[39;00m \u001b[38;5;129;01mnot\u001b[39;00m \u001b[38;5;28;01mNone\u001b[39;00m:\n\u001b[0;32m--> 139\u001b[0m     out \u001b[38;5;241m=\u001b[39m out \u001b[38;5;241m+\u001b[39m \u001b[38;5;28;43mself\u001b[39;49m\u001b[38;5;241;43m.\u001b[39;49m\u001b[43mlin_r\u001b[49m\u001b[43m(\u001b[49m\u001b[43mx_r\u001b[49m\u001b[43m)\u001b[49m\n\u001b[1;32m    141\u001b[0m \u001b[38;5;28;01mif\u001b[39;00m \u001b[38;5;28mself\u001b[39m\u001b[38;5;241m.\u001b[39mnormalize:\n\u001b[1;32m    142\u001b[0m     out \u001b[38;5;241m=\u001b[39m F\u001b[38;5;241m.\u001b[39mnormalize(out, p\u001b[38;5;241m=\u001b[39m\u001b[38;5;241m2.\u001b[39m, dim\u001b[38;5;241m=\u001b[39m\u001b[38;5;241m-\u001b[39m\u001b[38;5;241m1\u001b[39m)\n",
      "File \u001b[0;32m~/Documents/00_project/10 스터디/RottenTomato_exp/my_env/lib/python3.11/site-packages/torch/nn/modules/module.py:1736\u001b[0m, in \u001b[0;36mModule._wrapped_call_impl\u001b[0;34m(self, *args, **kwargs)\u001b[0m\n\u001b[1;32m   1734\u001b[0m     \u001b[38;5;28;01mreturn\u001b[39;00m \u001b[38;5;28mself\u001b[39m\u001b[38;5;241m.\u001b[39m_compiled_call_impl(\u001b[38;5;241m*\u001b[39margs, \u001b[38;5;241m*\u001b[39m\u001b[38;5;241m*\u001b[39mkwargs)  \u001b[38;5;66;03m# type: ignore[misc]\u001b[39;00m\n\u001b[1;32m   1735\u001b[0m \u001b[38;5;28;01melse\u001b[39;00m:\n\u001b[0;32m-> 1736\u001b[0m     \u001b[38;5;28;01mreturn\u001b[39;00m \u001b[38;5;28;43mself\u001b[39;49m\u001b[38;5;241;43m.\u001b[39;49m\u001b[43m_call_impl\u001b[49m\u001b[43m(\u001b[49m\u001b[38;5;241;43m*\u001b[39;49m\u001b[43margs\u001b[49m\u001b[43m,\u001b[49m\u001b[43m \u001b[49m\u001b[38;5;241;43m*\u001b[39;49m\u001b[38;5;241;43m*\u001b[39;49m\u001b[43mkwargs\u001b[49m\u001b[43m)\u001b[49m\n",
      "File \u001b[0;32m~/Documents/00_project/10 스터디/RottenTomato_exp/my_env/lib/python3.11/site-packages/torch/nn/modules/module.py:1747\u001b[0m, in \u001b[0;36mModule._call_impl\u001b[0;34m(self, *args, **kwargs)\u001b[0m\n\u001b[1;32m   1742\u001b[0m \u001b[38;5;66;03m# If we don't have any hooks, we want to skip the rest of the logic in\u001b[39;00m\n\u001b[1;32m   1743\u001b[0m \u001b[38;5;66;03m# this function, and just call forward.\u001b[39;00m\n\u001b[1;32m   1744\u001b[0m \u001b[38;5;28;01mif\u001b[39;00m \u001b[38;5;129;01mnot\u001b[39;00m (\u001b[38;5;28mself\u001b[39m\u001b[38;5;241m.\u001b[39m_backward_hooks \u001b[38;5;129;01mor\u001b[39;00m \u001b[38;5;28mself\u001b[39m\u001b[38;5;241m.\u001b[39m_backward_pre_hooks \u001b[38;5;129;01mor\u001b[39;00m \u001b[38;5;28mself\u001b[39m\u001b[38;5;241m.\u001b[39m_forward_hooks \u001b[38;5;129;01mor\u001b[39;00m \u001b[38;5;28mself\u001b[39m\u001b[38;5;241m.\u001b[39m_forward_pre_hooks\n\u001b[1;32m   1745\u001b[0m         \u001b[38;5;129;01mor\u001b[39;00m _global_backward_pre_hooks \u001b[38;5;129;01mor\u001b[39;00m _global_backward_hooks\n\u001b[1;32m   1746\u001b[0m         \u001b[38;5;129;01mor\u001b[39;00m _global_forward_hooks \u001b[38;5;129;01mor\u001b[39;00m _global_forward_pre_hooks):\n\u001b[0;32m-> 1747\u001b[0m     \u001b[38;5;28;01mreturn\u001b[39;00m \u001b[43mforward_call\u001b[49m\u001b[43m(\u001b[49m\u001b[38;5;241;43m*\u001b[39;49m\u001b[43margs\u001b[49m\u001b[43m,\u001b[49m\u001b[43m \u001b[49m\u001b[38;5;241;43m*\u001b[39;49m\u001b[38;5;241;43m*\u001b[39;49m\u001b[43mkwargs\u001b[49m\u001b[43m)\u001b[49m\n\u001b[1;32m   1749\u001b[0m result \u001b[38;5;241m=\u001b[39m \u001b[38;5;28;01mNone\u001b[39;00m\n\u001b[1;32m   1750\u001b[0m called_always_called_hooks \u001b[38;5;241m=\u001b[39m \u001b[38;5;28mset\u001b[39m()\n",
      "File \u001b[0;32m~/Documents/00_project/10 스터디/RottenTomato_exp/my_env/lib/python3.11/site-packages/torch_geometric/nn/dense/linear.py:147\u001b[0m, in \u001b[0;36mLinear.forward\u001b[0;34m(self, x)\u001b[0m\n\u001b[1;32m    141\u001b[0m \u001b[38;5;28;01mdef\u001b[39;00m \u001b[38;5;21mforward\u001b[39m(\u001b[38;5;28mself\u001b[39m, x: Tensor) \u001b[38;5;241m-\u001b[39m\u001b[38;5;241m>\u001b[39m Tensor:\n\u001b[1;32m    142\u001b[0m \u001b[38;5;250m    \u001b[39m\u001b[38;5;124mr\u001b[39m\u001b[38;5;124;03m\"\"\"Forward pass.\u001b[39;00m\n\u001b[1;32m    143\u001b[0m \n\u001b[1;32m    144\u001b[0m \u001b[38;5;124;03m    Args:\u001b[39;00m\n\u001b[1;32m    145\u001b[0m \u001b[38;5;124;03m        x (torch.Tensor): The input features.\u001b[39;00m\n\u001b[1;32m    146\u001b[0m \u001b[38;5;124;03m    \"\"\"\u001b[39;00m\n\u001b[0;32m--> 147\u001b[0m     \u001b[38;5;28;01mreturn\u001b[39;00m \u001b[43mF\u001b[49m\u001b[38;5;241;43m.\u001b[39;49m\u001b[43mlinear\u001b[49m\u001b[43m(\u001b[49m\u001b[43mx\u001b[49m\u001b[43m,\u001b[49m\u001b[43m \u001b[49m\u001b[38;5;28;43mself\u001b[39;49m\u001b[38;5;241;43m.\u001b[39;49m\u001b[43mweight\u001b[49m\u001b[43m,\u001b[49m\u001b[43m \u001b[49m\u001b[38;5;28;43mself\u001b[39;49m\u001b[38;5;241;43m.\u001b[39;49m\u001b[43mbias\u001b[49m\u001b[43m)\u001b[49m\n",
      "\u001b[0;31mRuntimeError\u001b[0m: mat1 and mat2 shapes cannot be multiplied (6963x32 and 64x64)"
     ]
    }
   ],
   "source": [
    "# Step 6: Training Loop\n",
    "for epoch in range(100):\n",
    "    model.train()\n",
    "    optimizer.zero_grad()\n",
    "\n",
    "    # Forward pass\n",
    "    x_user_embed, x_movie_embed = model(\n",
    "        x_user, x_movie,\n",
    "        graph['user', 'rates', 'movie'].edge_index,\n",
    "        graph['movie', 'rated_by', 'user'].edge_index\n",
    "    )\n",
    "\n",
    "    # Compute loss on training edges\n",
    "    user_embeds = x_user_embed[train_edges[0]]\n",
    "    movie_embeds = x_movie_embed[train_edges[1]]\n",
    "    preds = (user_embeds * movie_embeds).sum(dim=1)  # Dot product for interaction score\n",
    "    loss = criterion(preds, train_labels)\n",
    "\n",
    "    loss.backward()\n",
    "    optimizer.step()\n",
    "\n",
    "    print(f\"Epoch {epoch + 1}, Loss: {loss.item()}\")\n",
    "\n",
    "# Step 7: Movie Recommendation\n",
    "def recommend_movies(user_id, top_k=10):\n",
    "    user_idx = user_mapping[user_id]\n",
    "    user_embed = x_user_embed[user_idx]\n",
    "\n",
    "    scores = (user_embed * x_movie_embed).sum(dim=1)\n",
    "    recommended_movie_indices = scores.argsort(descending=True)[:top_k]\n",
    "\n",
    "    return [movie_ids[idx.item()] for idx in recommended_movie_indices]\n",
    "\n",
    "# Example recommendation\n",
    "user_id_to_recommend = user_ids[0]\n",
    "recommended_movies = recommend_movies(user_id_to_recommend)\n",
    "print(\"Recommended Movies:\", recommended_movies)\n"
   ]
  }
 ],
 "metadata": {
  "kernelspec": {
   "display_name": "my_env",
   "language": "python",
   "name": "python3"
  },
  "language_info": {
   "codemirror_mode": {
    "name": "ipython",
    "version": 3
   },
   "file_extension": ".py",
   "mimetype": "text/x-python",
   "name": "python",
   "nbconvert_exporter": "python",
   "pygments_lexer": "ipython3",
   "version": "3.11.7"
  }
 },
 "nbformat": 4,
 "nbformat_minor": 2
}
